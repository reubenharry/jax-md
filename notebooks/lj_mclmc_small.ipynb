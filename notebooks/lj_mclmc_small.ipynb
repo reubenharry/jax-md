{
 "cells": [
  {
   "cell_type": "code",
   "execution_count": 1,
   "metadata": {},
   "outputs": [],
   "source": [
    "#@title Imports\n",
    "\n",
    "import jax.numpy as np\n",
    "import numpy as onp\n",
    "from jax import jit\n",
    "from jax import random\n",
    "from jax import lax\n",
    "import jax_md\n",
    "\n",
    "from jax.config import config\n",
    "# config.update('jax_enable_x64', True)\n",
    "\n",
    "from jax_md import space\n",
    "from jax_md import energy\n",
    "from jax_md import simulate\n",
    "from jax_md import quantity\n",
    "from jax_md import partition\n",
    "\n",
    "# from jax_md.colab_tools import renderer"
   ]
  },
  {
   "cell_type": "code",
   "execution_count": 45,
   "metadata": {},
   "outputs": [],
   "source": [
    "lattice_constant = 1.37820\n",
    "N_rep = 10\n",
    "box_size = N_rep * lattice_constant\n",
    "# Using float32 for positions / velocities, but float64 for reductions.\n",
    "dtype = np.float32\n",
    "\n",
    "# Specify the format of the neighbor list. \n",
    "# Options are Dense, Sparse, or OrderedSparse. \n",
    "format = partition.OrderedSparse\n",
    "\n",
    "displacement, shift = space.periodic(box_size)"
   ]
  },
  {
   "cell_type": "code",
   "execution_count": 46,
   "metadata": {},
   "outputs": [],
   "source": [
    "R = []\n",
    "for i in range(N_rep):\n",
    "  for j in range(N_rep):\n",
    "    for k in range(N_rep):\n",
    "      R += [[i, j, k]]\n",
    "R = np.array(R, dtype=dtype) * lattice_constant"
   ]
  },
  {
   "cell_type": "code",
   "execution_count": 47,
   "metadata": {},
   "outputs": [
    {
     "name": "stdout",
     "output_type": "stream",
     "text": [
      "Created a system of 1000 LJ particles with number density 0.382\n"
     ]
    }
   ],
   "source": [
    "N = R.shape[0]\n",
    "phi = N / (box_size) ** 3\n",
    "print(f'Created a system of {N} LJ particles with number density {phi:.3f}')"
   ]
  },
  {
   "cell_type": "code",
   "execution_count": 48,
   "metadata": {},
   "outputs": [],
   "source": [
    "energy_fn = energy.lennard_jones"
   ]
  },
  {
   "cell_type": "code",
   "execution_count": 49,
   "metadata": {},
   "outputs": [],
   "source": [
    "# nbrs = neighbor_fn.allocate(R)\n",
    "# energy_fn(R, nbrs)"
   ]
  },
  {
   "cell_type": "code",
   "execution_count": 50,
   "metadata": {},
   "outputs": [],
   "source": [
    "init, apply = simulate.nvt_langevin(energy_fn, shift, 5e-3, kT=0.85, gamma=0.1)"
   ]
  },
  {
   "cell_type": "code",
   "execution_count": 51,
   "metadata": {},
   "outputs": [],
   "source": [
    "key = random.PRNGKey(0)\n",
    "state = init(key, R)"
   ]
  },
  {
   "cell_type": "code",
   "execution_count": 52,
   "metadata": {},
   "outputs": [],
   "source": [
    "def step(state, unused):\n",
    "  return apply(state), state.position\n",
    "# energy_fn(state.position, nbrs)\n"
   ]
  },
  {
   "cell_type": "code",
   "execution_count": 53,
   "metadata": {},
   "outputs": [],
   "source": [
    "new_state, states = lax.scan(step, state, np.ones((100)))\n"
   ]
  },
  {
   "cell_type": "code",
   "execution_count": 54,
   "metadata": {},
   "outputs": [],
   "source": [
    "# (energies/N)[3000:].mean()\n",
    "# energies\n"
   ]
  },
  {
   "cell_type": "code",
   "execution_count": 56,
   "metadata": {},
   "outputs": [],
   "source": [
    "import mdtraj as md\n",
    "import pandas as pd\n",
    "\n",
    "# # traj = md.load('/Users/reubencohn-gordon/Downloads/ala2 2/sim4/trajectory.dcd', top='/Users/reubencohn-gordon/Downloads/ala2 2/ala2.pdb')\n",
    "# traj, _ = md.load('./data/prod_alanine_dipeptide_amber/structure.pdb').topology.to_dataframe()\n",
    "# print(traj)\n",
    "# raise Exception\n",
    "\n",
    "# new_t = traj.append([688,0])\n",
    "\n",
    "n = 1000\n",
    "\n",
    "new_t = pd.DataFrame({'name' : ['O']*n,\n",
    "                      'element' : ['O']*n,\n",
    "                      'serial' : range(n),\n",
    "                      'resSeq' : [0]*n,\n",
    "                      'resName' : ['0']*n,\n",
    "                      'chainID' : [0]*n,\n",
    "\n",
    "                      \n",
    "                      })\n",
    "\n",
    "# new_t.loc[:, 'name'] = 'HOH'\n",
    "# new_t.loc[:, 'element'] = 'O'\n",
    "# new_t.loc[:, 'resName'] = 'HOH'\n",
    "# new_t.loc[:, 'resSeq'] = 1\n",
    "# new_t.loc['name'] = ['HOH']*125\n",
    "new_t\n",
    "\n",
    "# states[:, :125, :].shape\n",
    "\n",
    "\n",
    "top = md.Topology.from_dataframe(new_t)\n",
    "# # states = np.where(np.isnan(states), 0, states)\n",
    "traj = md.Trajectory(xyz=states[:, :, :], topology=top)\n",
    "\n",
    "traj.save_pdb('./data/lj_small.pdb')\n"
   ]
  },
  {
   "cell_type": "code",
   "execution_count": 64,
   "metadata": {},
   "outputs": [],
   "source": [
    "import jax\n",
    "import math\n",
    "from jax_md.simulate import Sampler\n",
    "\n",
    "pos = state.position\n",
    "\n",
    "T = 1.2\n",
    "l = lambda x : energy_fn(np.reshape(x, pos.shape), nbrs) / T\n",
    "value_grad = jax.value_and_grad(l)\n",
    "\n",
    "\n",
    "class MD():\n",
    "\n",
    "\n",
    "  def __init__(self, d):\n",
    "    self.d = d\n",
    "\n",
    "  def grad_nlogp(self, x):\n",
    "    return value_grad(x)\n",
    "\n",
    "  def transform(self, x):\n",
    "    return x\n",
    "\n",
    "  def prior_draw(self, key):\n",
    "    return np.array(np.reshape(pos, math.prod(pos.shape)), dtype='float64')\n",
    "\n",
    "\n",
    "# displacement_fn, shift_fn = space.periodic_general(box[0])\n",
    "\n",
    "target = MD(d = math.prod(pos.shape))\n",
    "sampler = Sampler(target, shift_fn=shift, \n",
    "                  # varEwanted=1e-6, \n",
    "                  frac_tune1=0.0,\n",
    "                  frac_tune2=0.0,\n",
    "                  frac_tune3=0.0,\n",
    "                  eps=1e0\n",
    "                  )"
   ]
  },
  {
   "cell_type": "code",
   "execution_count": 65,
   "metadata": {},
   "outputs": [],
   "source": [
    "\n",
    "chain_length = 100\n",
    "num_chains = 1\n",
    "samples, energy, L, eps = sampler.sample(chain_length, num_chains, output= 'detailed')"
   ]
  },
  {
   "cell_type": "code",
   "execution_count": 70,
   "metadata": {},
   "outputs": [],
   "source": [
    "import mdtraj as md\n",
    "import pandas as pd\n",
    "\n",
    "traj, _ = md.load('./data/prod_alanine_dipeptide_amber/structure.pdb').topology.to_dataframe()\n",
    "\n",
    "# print(samples.shape)\n",
    "# raise Exception\n",
    "\n",
    "n = 64000\n",
    "\n",
    "new_t = pd.DataFrame({'name' : ['O']*n,\n",
    "                      'element' : ['O']*n,\n",
    "                      'serial' : range(n),\n",
    "                      'resSeq' : [0]*n,\n",
    "                      'resName' : ['0']*n,\n",
    "                      'chainID' : [0]*n,\n",
    "\n",
    "                      \n",
    "                      })\n",
    "\n",
    "\n",
    "top = md.Topology.from_dataframe(new_t)\n",
    "# # states = np.where(np.isnan(states), 0, states)\n",
    "traj = md.Trajectory(xyz=np.reshape(samples, (100, 64000, 3)), topology=top)\n",
    "\n",
    "traj.save_pdb('./data/lj_mclmc.pdb')\n"
   ]
  },
  {
   "cell_type": "code",
   "execution_count": 72,
   "metadata": {},
   "outputs": [
    {
     "name": "stdout",
     "output_type": "stream",
     "text": [
      "[ 0.13258595  0.20883596 55.01027739 ... 53.45025905 53.83830398\n",
      " 53.79270948]\n",
      "[ 0.13258898  0.20884516 55.01027526 ... 53.45027182 53.83830053\n",
      " 53.79271843]\n"
     ]
    }
   ],
   "source": [
    "print(samples[0])\n",
    "print(samples[1])"
   ]
  },
  {
   "cell_type": "code",
   "execution_count": 60,
   "metadata": {},
   "outputs": [],
   "source": [
    "ran = np.linspace(1e-5, 1e-4, num = 50)\n",
    "gr = jax_md.quantity.pair_correlation(displacement, ran, 1.0)"
   ]
  },
  {
   "cell_type": "code",
   "execution_count": 61,
   "metadata": {},
   "outputs": [
    {
     "data": {
      "text/plain": [
       "(125, 50)"
      ]
     },
     "execution_count": 61,
     "metadata": {},
     "output_type": "execute_result"
    }
   ],
   "source": [
    "gr(state.position[:]).shape\n",
    "# state.position.shape\n",
    "# np.logspace(0.1,1.0)"
   ]
  },
  {
   "cell_type": "code",
   "execution_count": 63,
   "metadata": {},
   "outputs": [
    {
     "ename": "NameError",
     "evalue": "name 'jax' is not defined",
     "output_type": "error",
     "traceback": [
      "\u001b[0;31m---------------------------------------------------------------------------\u001b[0m",
      "\u001b[0;31mNameError\u001b[0m                                 Traceback (most recent call last)",
      "Cell \u001b[0;32mIn[63], line 2\u001b[0m\n\u001b[1;32m      1\u001b[0m \u001b[39mimport\u001b[39;00m \u001b[39mseaborn\u001b[39;00m \u001b[39mas\u001b[39;00m \u001b[39msns\u001b[39;00m\n\u001b[0;32m----> 2\u001b[0m sns\u001b[39m.\u001b[39mscatterplot(x\u001b[39m=\u001b[39mran, y\u001b[39m=\u001b[39mjax\u001b[39m.\u001b[39mvmap(gr)([state\u001b[39m.\u001b[39mposition]))\n",
      "\u001b[0;31mNameError\u001b[0m: name 'jax' is not defined"
     ]
    }
   ],
   "source": [
    "import seaborn as sns\n",
    "sns.scatterplot(x=ran, y=jax.vmap(gr)([state.position]))"
   ]
  },
  {
   "cell_type": "code",
   "execution_count": null,
   "metadata": {},
   "outputs": [],
   "source": []
  }
 ],
 "metadata": {
  "kernelspec": {
   "display_name": "new",
   "language": "python",
   "name": "python3"
  },
  "language_info": {
   "codemirror_mode": {
    "name": "ipython",
    "version": 3
   },
   "file_extension": ".py",
   "mimetype": "text/x-python",
   "name": "python",
   "nbconvert_exporter": "python",
   "pygments_lexer": "ipython3",
   "version": "3.8.16"
  },
  "orig_nbformat": 4,
  "vscode": {
   "interpreter": {
    "hash": "e9e4486f399002acd93f570d06bedb1279c79e7d1e86eaad67dd8f6e5402a316"
   }
  }
 },
 "nbformat": 4,
 "nbformat_minor": 2
}
