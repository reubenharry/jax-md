{
 "cells": [
  {
   "cell_type": "code",
   "execution_count": 1,
   "metadata": {},
   "outputs": [],
   "source": [
    "#@title Imports\n",
    "\n",
    "import jax.numpy as np\n",
    "import numpy as onp\n",
    "from jax import jit\n",
    "from jax import random\n",
    "from jax import lax\n",
    "import jax_md\n",
    "\n",
    "from jax.config import config\n",
    "config.update('jax_enable_x64', True)\n",
    "\n",
    "from jax_md import space\n",
    "from jax_md import energy\n",
    "from jax_md import simulate\n",
    "from jax_md import quantity\n",
    "from jax_md import partition\n",
    "\n",
    "# from jax_md.colab_tools import renderer"
   ]
  },
  {
   "cell_type": "code",
   "execution_count": 14,
   "metadata": {},
   "outputs": [],
   "source": [
    "lattice_constant = 1.37820\n",
    "N_rep = 5 # int(10000 ** (1/3))\n",
    "box_size = N_rep * lattice_constant * 2\n",
    "# Using float32 for positions / velocities, but float64 for reductions.\n",
    "dtype = np.float32\n",
    "\n",
    "# Specify the format of the neighbor list. \n",
    "# Options are Dense, Sparse, or OrderedSparse. \n",
    "format = partition.OrderedSparse\n",
    "\n",
    "displacement, shift = space.periodic(box_size)"
   ]
  },
  {
   "cell_type": "code",
   "execution_count": 15,
   "metadata": {},
   "outputs": [],
   "source": [
    "R = []\n",
    "for i in range(N_rep):\n",
    "  for j in range(N_rep):\n",
    "    for k in range(N_rep):\n",
    "      R += [[i, j, k]]\n",
    "R = np.array(R, dtype=dtype) * lattice_constant"
   ]
  },
  {
   "cell_type": "code",
   "execution_count": 16,
   "metadata": {},
   "outputs": [
    {
     "name": "stdout",
     "output_type": "stream",
     "text": [
      "Created a system of 125 LJ particles with number density 0.048\n"
     ]
    }
   ],
   "source": [
    "N = R.shape[0]\n",
    "phi = N / (box_size) ** 3\n",
    "print(f'Created a system of {N} LJ particles with number density {phi:.3f}')"
   ]
  },
  {
   "cell_type": "code",
   "execution_count": 23,
   "metadata": {},
   "outputs": [],
   "source": [
    "neighbor_fn, energy_fn = energy.lennard_jones_neighbor_list(displacement,\n",
    "                                                            box_size, \n",
    "                                                            r_cutoff=3.0,\n",
    "                                                            epsilon=1.0,\n",
    "                                                            sigma=1.0,\n",
    "                                                            dr_threshold=1.,\n",
    "                                                            format=format)"
   ]
  },
  {
   "cell_type": "code",
   "execution_count": 24,
   "metadata": {},
   "outputs": [
    {
     "data": {
      "text/plain": [
       "Array(-188.36255, dtype=float32)"
      ]
     },
     "execution_count": 24,
     "metadata": {},
     "output_type": "execute_result"
    }
   ],
   "source": [
    "nbrs = neighbor_fn.allocate(R)\n",
    "energy_fn(R, nbrs)"
   ]
  },
  {
   "cell_type": "code",
   "execution_count": 25,
   "metadata": {},
   "outputs": [
    {
     "name": "stdout",
     "output_type": "stream",
     "text": [
      "FOO\n"
     ]
    }
   ],
   "source": [
    "init, apply = simulate.nvt_nose_hoover(energy_fn, shift, 5e-3, kT=0.75)"
   ]
  },
  {
   "cell_type": "code",
   "execution_count": 26,
   "metadata": {},
   "outputs": [],
   "source": [
    "key = random.PRNGKey(0)\n",
    "\n",
    "# We pick an \"extra capacity\" to ensure ahead of time that the neighbor\n",
    "# list will have enough capacity. Since sparse neighbor lists are more \n",
    "# robust to changes in the number of particles, in this case we only \n",
    "# need to actually add more capacity for dense neighbor lists.\n",
    "if format is partition.Dense: \n",
    "  nbrs = neighbor_fn.allocate(R, extra_capacity=55)\n",
    "else:\n",
    "  nbrs = neighbor_fn.allocate(R)\n",
    "\n",
    "state = init(key, R, neighbor=nbrs)"
   ]
  },
  {
   "cell_type": "code",
   "execution_count": 27,
   "metadata": {},
   "outputs": [],
   "source": [
    "def step(state_and_nbrs, unused):\n",
    "  state, nbrs = state_and_nbrs\n",
    "  nbrs = nbrs.update(state.position)\n",
    "  return (apply(state, neighbor=nbrs), nbrs), energy_fn(state.position, nbrs)\n"
   ]
  },
  {
   "cell_type": "code",
   "execution_count": 28,
   "metadata": {},
   "outputs": [],
   "source": [
    "(new_state, new_nbrs), energies = lax.scan(step, (state, nbrs), np.ones((5000)))\n"
   ]
  },
  {
   "cell_type": "code",
   "execution_count": 29,
   "metadata": {},
   "outputs": [
    {
     "data": {
      "text/plain": [
       "Array(0., dtype=float32)"
      ]
     },
     "execution_count": 29,
     "metadata": {},
     "output_type": "execute_result"
    }
   ],
   "source": [
    "(energies/N)[3000:].mean()\n",
    "# energies"
   ]
  },
  {
   "cell_type": "code",
   "execution_count": 30,
   "metadata": {},
   "outputs": [
    {
     "data": {
      "text/plain": [
       "Array(-188.36255, dtype=float32)"
      ]
     },
     "execution_count": 30,
     "metadata": {},
     "output_type": "execute_result"
    }
   ],
   "source": [
    "energy_fn(R, nbrs)\n",
    "# R.shape\n",
    "# Array(0.16502948, dtype=float32)\n"
   ]
  },
  {
   "cell_type": "code",
   "execution_count": 31,
   "metadata": {},
   "outputs": [
    {
     "data": {
      "text/plain": [
       "NeighborList(idx=Array([[  0,   1,   0, ..., 125, 125, 125],\n",
       "       [  1,   2,   2, ..., 125, 125, 125]], dtype=int32), reference_position=Array([[ 0.816599  ,  0.78013045,  1.3134943 ],\n",
       "       [ 0.865217  , 13.30726   ,  1.0350077 ],\n",
       "       [ 1.319262  , 13.276201  ,  2.1949813 ],\n",
       "       [ 1.6175023 ,  1.426612  ,  4.6933904 ],\n",
       "       [ 0.64612055,  0.41510585,  5.4012995 ],\n",
       "       [10.890388  ,  0.35618663,  2.9244862 ],\n",
       "       [ 0.29788017,  0.0802899 ,  2.2079988 ],\n",
       "       [ 1.4438272 ,  1.7487953 ,  1.6585805 ],\n",
       "       [13.350106  ,  0.82188624,  2.7625377 ],\n",
       "       [12.133874  ,  1.2305152 ,  5.1647973 ],\n",
       "       [13.538495  ,  3.7277586 ,  1.3926023 ],\n",
       "       [13.745797  ,  1.4298304 ,  2.0376968 ],\n",
       "       [ 0.7478255 ,  1.5557102 ,  2.7435997 ],\n",
       "       [12.56515   ,  2.6466334 ,  2.3977683 ],\n",
       "       [13.672601  ,  2.4747167 ,  2.2498424 ],\n",
       "       [ 0.2260567 ,  3.5513508 ,  0.30416477],\n",
       "       [ 1.6282372 ,  4.060674  ,  2.6097388 ],\n",
       "       [ 0.15377094,  2.7241244 ,  3.496886  ],\n",
       "       [13.26099   ,  3.5256586 ,  2.398643  ],\n",
       "       [12.66157   , 13.195495  ,  5.1047688 ],\n",
       "       [11.278639  ,  9.096239  ,  1.9998707 ],\n",
       "       [13.033872  ,  5.7470365 ,  3.7987876 ],\n",
       "       [ 1.7890941 ,  3.3884463 ,  4.108705  ],\n",
       "       [ 0.8377023 ,  3.6162996 ,  3.7713022 ],\n",
       "       [ 0.7195126 ,  4.1498637 ,  4.7952266 ],\n",
       "       [13.7620735 ,  0.17236562,  1.0719041 ],\n",
       "       [ 1.6279012 ,  0.4695141 ,  1.8462433 ],\n",
       "       [ 1.0439086 ,  0.500135  ,  2.8017902 ],\n",
       "       [ 3.0081787 ,  0.8392864 ,  4.7121663 ],\n",
       "       [ 0.9041612 , 13.464974  ,  6.9463706 ],\n",
       "       [ 3.800921  ,  0.2434199 , 13.0803385 ],\n",
       "       [ 3.6387665 ,  3.6680028 ,  0.43921   ],\n",
       "       [ 3.0907786 ,  0.36909473,  3.5774996 ],\n",
       "       [ 2.019599  ,  2.0114923 ,  3.1025887 ],\n",
       "       [ 2.0561278 ,  2.2843394 ,  4.1116343 ],\n",
       "       [ 4.204893  ,  4.7932343 ,  1.0567908 ],\n",
       "       [ 0.46649283,  1.4734938 ,  0.51163524],\n",
       "       [ 1.5031314 ,  2.9816675 ,  3.1258614 ],\n",
       "       [ 7.2235923 , 11.595473  ,  7.5429926 ],\n",
       "       [ 2.6726437 ,  3.9588578 ,  3.2946913 ],\n",
       "       [ 2.8888485 ,  3.4580066 , 13.136126  ],\n",
       "       [ 0.07885159,  4.8043118 ,  0.95941395],\n",
       "       [ 2.0156322 ,  3.112962  ,  2.1354437 ],\n",
       "       [ 2.1575751 ,  6.179194  ,  3.3891435 ],\n",
       "       [ 3.683945  ,  3.4342484 ,  3.4947853 ],\n",
       "       [ 2.0832927 ,  4.542181  ,  1.7323858 ],\n",
       "       [ 0.07877102,  5.0244465 ,  3.8967388 ],\n",
       "       [ 1.073329  ,  4.719867  ,  3.7941008 ],\n",
       "       [ 1.9971778 ,  4.440622  ,  4.343199  ],\n",
       "       [ 3.770779  ,  4.4752164 ,  6.687161  ],\n",
       "       [12.615809  , 13.503561  ,  0.760111  ],\n",
       "       [ 2.0335221 , 13.746572  ,  2.7731743 ],\n",
       "       [ 1.9409186 ,  1.1841549 ,  2.52757   ],\n",
       "       [ 3.3039944 ,  1.4089433 ,  3.7023456 ],\n",
       "       [ 3.7756498 ,  2.7609646 ,  5.396171  ],\n",
       "       [ 2.7022471 ,  1.1124867 ,  0.10531819],\n",
       "       [ 4.085742  ,  2.61036   ,  2.1148822 ],\n",
       "       [ 3.9178615 ,  2.2123287 ,  3.060643  ],\n",
       "       [ 2.2084773 ,  0.8555783 ,  3.5846796 ],\n",
       "       [ 1.5292736 ,  2.5434668 ,  5.544478  ],\n",
       "       [ 2.8612316 , 13.438156  , 13.469224  ],\n",
       "       [ 3.667151  ,  2.0873063 ,  0.89969516],\n",
       "       [ 2.9617734 ,  2.5291636 ,  2.6747124 ],\n",
       "       [ 2.9697368 ,  2.7084613 ,  3.8236156 ],\n",
       "       [ 3.0042276 ,  2.0094957 ,  4.8161516 ],\n",
       "       [ 1.3544111 ,  3.722893  ,  1.3665895 ],\n",
       "       [ 3.0760345 ,  4.7047567 ,  1.9188088 ],\n",
       "       [ 2.24958   ,  4.9476447 ,  3.1516495 ],\n",
       "       [ 3.2408848 ,  3.6556478 ,  2.4601748 ],\n",
       "       [ 2.7006843 ,  3.1665251 ,  4.809223  ],\n",
       "       [ 2.1675246 ,  3.8891351 ,  0.24644324],\n",
       "       [ 2.9228117 ,  3.9887927 ,  1.1369865 ],\n",
       "       [ 3.8116107 ,  4.425462  ,  2.9833152 ],\n",
       "       [ 3.2854176 ,  5.567517  ,  2.527094  ],\n",
       "       [ 3.956079  ,  4.2548523 ,  4.1179976 ],\n",
       "       [ 2.1934533 ,  2.225492  ,  0.57610476],\n",
       "       [ 1.7319244 ,  0.3569778 ,  4.441035  ],\n",
       "       [ 2.792222  , 10.330263  ,  4.2808943 ],\n",
       "       [ 3.264     ,  9.497293  ,  5.165019  ],\n",
       "       [ 4.085465  ,  0.64130884,  4.126068  ],\n",
       "       [ 3.2028916 ,  1.0619838 ,  1.957888  ],\n",
       "       [ 2.8044567 ,  2.5210268 ,  1.6252867 ],\n",
       "       [ 4.528902  ,  3.4533253 ,  2.7751367 ],\n",
       "       [ 4.121302  ,  2.3329475 ,  4.484345  ],\n",
       "       [ 4.7076507 ,  1.5556229 ,  3.2347858 ],\n",
       "       [ 3.678476  ,  1.8367685 , 13.406437  ],\n",
       "       [ 5.934424  ,  3.1592078 ,  1.1884776 ],\n",
       "       [ 4.744142  ,  3.2705104 ,  0.68856454],\n",
       "       [ 4.706896  ,  3.2907784 ,  3.9525416 ],\n",
       "       [ 4.199977  ,  3.6410024 ,  4.8990192 ],\n",
       "       [ 3.0963645 ,  4.8196745 ,  0.06355255],\n",
       "       [ 5.345903  ,  4.5132456 ,  1.3016775 ],\n",
       "       [ 4.650439  ,  5.9696255 ,  3.6529527 ],\n",
       "       [ 3.995702  ,  5.2264104 ,  3.6441743 ],\n",
       "       [ 2.9770396 ,  4.9267178 ,  5.6538477 ],\n",
       "       [ 5.231744  ,  5.6851377 ,  0.45273387],\n",
       "       [ 4.025124  ,  5.070039  ,  2.1820126 ],\n",
       "       [ 4.305929  ,  6.4617286 ,  5.176259  ],\n",
       "       [ 4.0529633 ,  3.5044148 ,  1.6825092 ],\n",
       "       [12.186785  , 10.48455   ,  1.7022247 ],\n",
       "       [ 5.738762  ,  1.4273275 ,  1.7850504 ],\n",
       "       [ 5.547011  ,  2.4460578 ,  0.09701867],\n",
       "       [ 3.8071818 ,  0.59330374,  2.7547479 ],\n",
       "       [ 5.7436557 ,  1.6666193 ,  2.8567524 ],\n",
       "       [ 3.859394  , 13.590818  ,  4.891381  ],\n",
       "       [ 4.603324  ,  2.3592358 ,  1.2770715 ],\n",
       "       [ 5.625799  ,  2.4592721 , 12.781706  ],\n",
       "       [ 4.066342  ,  1.614836  ,  2.2140808 ],\n",
       "       [ 5.26163   ,  2.492284  ,  3.4603796 ],\n",
       "       [ 5.1357007 ,  2.4875839 ,  4.5215797 ],\n",
       "       [ 7.4212017 ,  2.0615919 ,  2.1104422 ],\n",
       "       [ 4.661824  ,  1.1092181 , 13.627941  ],\n",
       "       [ 5.0635066 ,  3.5901678 ,  1.7588778 ],\n",
       "       [ 2.860777  ,  5.1819534 ,  3.9942937 ],\n",
       "       [ 2.1413217 ,  1.5839244 ,  6.0741982 ],\n",
       "       [ 5.2082233 ,  2.5099735 ,  2.1664395 ],\n",
       "       [ 5.32766   ,  4.3397813 ,  0.21205634],\n",
       "       [ 4.7713923 ,  4.4337015 ,  2.3236651 ],\n",
       "       [ 4.955809  ,  4.531763  ,  4.760358  ],\n",
       "       [ 3.4399898 ,  6.0841346 ,  3.46804   ],\n",
       "       [ 6.462569  ,  4.068933  ,  0.9845161 ],\n",
       "       [ 6.251435  ,  5.2840457 ,  0.7320171 ],\n",
       "       [ 6.3312597 ,  3.4279935 ,  2.2873545 ],\n",
       "       [ 4.282324  ,  7.321842  ,  4.0835013 ],\n",
       "       [ 5.931674  ,  5.2661223 ,  6.377546  ]], dtype=float32), error=Partition Error: Neighbor list buffer overflow., cell_list_capacity=80, max_occupancy=3533, format=<NeighborListFormat.OrderedSparse: 2>, cell_size=Array(4., dtype=float32), cell_list_fn=CellListFns(allocate=<function cell_list.<locals>.allocate_fn at 0x2ba0cf1f0>, update=<function cell_list.<locals>.update_fn at 0x2ba0cfca0>), update_fn=<function neighbor_list.<locals>.neighbor_list_fn at 0x2abe84310>)"
      ]
     },
     "execution_count": 31,
     "metadata": {},
     "output_type": "execute_result"
    }
   ],
   "source": [
    "new_nbrs"
   ]
  },
  {
   "cell_type": "code",
   "execution_count": 60,
   "metadata": {},
   "outputs": [],
   "source": [
    "ran = np.linspace(1e-5, 1e-4, num = 50)\n",
    "gr = jax_md.quantity.pair_correlation(displacement, ran, 1.0)"
   ]
  },
  {
   "cell_type": "code",
   "execution_count": 61,
   "metadata": {},
   "outputs": [
    {
     "data": {
      "text/plain": [
       "(125, 50)"
      ]
     },
     "execution_count": 61,
     "metadata": {},
     "output_type": "execute_result"
    }
   ],
   "source": [
    "gr(state.position[:]).shape\n",
    "# state.position.shape\n",
    "# np.logspace(0.1,1.0)"
   ]
  },
  {
   "cell_type": "code",
   "execution_count": 63,
   "metadata": {},
   "outputs": [
    {
     "ename": "NameError",
     "evalue": "name 'jax' is not defined",
     "output_type": "error",
     "traceback": [
      "\u001b[0;31m---------------------------------------------------------------------------\u001b[0m",
      "\u001b[0;31mNameError\u001b[0m                                 Traceback (most recent call last)",
      "Cell \u001b[0;32mIn[63], line 2\u001b[0m\n\u001b[1;32m      1\u001b[0m \u001b[39mimport\u001b[39;00m \u001b[39mseaborn\u001b[39;00m \u001b[39mas\u001b[39;00m \u001b[39msns\u001b[39;00m\n\u001b[0;32m----> 2\u001b[0m sns\u001b[39m.\u001b[39mscatterplot(x\u001b[39m=\u001b[39mran, y\u001b[39m=\u001b[39mjax\u001b[39m.\u001b[39mvmap(gr)([state\u001b[39m.\u001b[39mposition]))\n",
      "\u001b[0;31mNameError\u001b[0m: name 'jax' is not defined"
     ]
    }
   ],
   "source": [
    "import seaborn as sns\n",
    "sns.scatterplot(x=ran, y=jax.vmap(gr)([state.position]))"
   ]
  },
  {
   "cell_type": "code",
   "execution_count": null,
   "metadata": {},
   "outputs": [],
   "source": []
  }
 ],
 "metadata": {
  "kernelspec": {
   "display_name": "Python 3",
   "language": "python",
   "name": "python3"
  },
  "language_info": {
   "codemirror_mode": {
    "name": "ipython",
    "version": 3
   },
   "file_extension": ".py",
   "mimetype": "text/x-python",
   "name": "python",
   "nbconvert_exporter": "python",
   "pygments_lexer": "ipython3",
   "version": "3.8.16"
  },
  "orig_nbformat": 4,
  "vscode": {
   "interpreter": {
    "hash": "5b6e8fba36db23bc4d54e0302cd75fdd75c29d9edcbab68d6cfc74e7e4b30305"
   }
  }
 },
 "nbformat": 4,
 "nbformat_minor": 2
}
