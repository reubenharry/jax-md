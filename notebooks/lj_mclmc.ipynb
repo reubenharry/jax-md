{
 "cells": [
  {
   "cell_type": "code",
   "execution_count": 1,
   "metadata": {},
   "outputs": [],
   "source": [
    "#@title Imports\n",
    "\n",
    "import jax.numpy as np\n",
    "import numpy as onp\n",
    "from jax import jit\n",
    "from jax import random\n",
    "from jax import lax\n",
    "import jax_md\n",
    "\n",
    "from jax.config import config\n",
    "config.update('jax_enable_x64', True)\n",
    "\n",
    "from jax_md import space\n",
    "from jax_md import energy\n",
    "from jax_md import simulate\n",
    "from jax_md import quantity\n",
    "from jax_md import partition\n",
    "\n",
    "# from jax_md.colab_tools import renderer"
   ]
  },
  {
   "cell_type": "code",
   "execution_count": 2,
   "metadata": {},
   "outputs": [],
   "source": [
    "lattice_constant = 1.37820\n",
    "N_rep = int(10000 ** (1/3))\n",
    "box_size = N_rep * lattice_constant * 2\n",
    "# Using float32 for positions / velocities, but float64 for reductions.\n",
    "dtype = np.float32\n",
    "\n",
    "# Specify the format of the neighbor list. \n",
    "# Options are Dense, Sparse, or OrderedSparse. \n",
    "format = partition.OrderedSparse\n",
    "\n",
    "displacement, shift = space.periodic(box_size)"
   ]
  },
  {
   "cell_type": "code",
   "execution_count": 3,
   "metadata": {},
   "outputs": [],
   "source": [
    "R = []\n",
    "for i in range(N_rep):\n",
    "  for j in range(N_rep):\n",
    "    for k in range(N_rep):\n",
    "      R += [[i, j, k]]\n",
    "R = np.array(R, dtype=dtype) * lattice_constant"
   ]
  },
  {
   "cell_type": "code",
   "execution_count": 4,
   "metadata": {},
   "outputs": [
    {
     "name": "stdout",
     "output_type": "stream",
     "text": [
      "Created a system of 9261 LJ particles with number density 0.048\n"
     ]
    }
   ],
   "source": [
    "N = R.shape[0]\n",
    "phi = N / (box_size) ** 3\n",
    "print(f'Created a system of {N} LJ particles with number density {phi:.3f}')"
   ]
  },
  {
   "cell_type": "code",
   "execution_count": 13,
   "metadata": {},
   "outputs": [],
   "source": [
    "neighbor_fn, energy_fn = energy.lennard_jones_neighbor_list(displacement,\n",
    "                                                            box_size, \n",
    "                                                            r_cutoff=2.5,\n",
    "                                                            epsilon=1.0,\n",
    "                                                            sigma=1.0,\n",
    "                                                            dr_threshold=1.,\n",
    "                                                            format=format)"
   ]
  },
  {
   "cell_type": "code",
   "execution_count": 14,
   "metadata": {},
   "outputs": [
    {
     "name": "stderr",
     "output_type": "stream",
     "text": [
      "/opt/homebrew/lib/python3.8/site-packages/jax/_src/ops/scatter.py:92: FutureWarning: scatter inputs have incompatible types: cannot safely cast value from dtype=int64 to dtype=int32. In future JAX releases this will result in an error.\n",
      "  warnings.warn(\"scatter inputs have incompatible types: cannot safely cast \"\n"
     ]
    },
    {
     "data": {
      "text/plain": [
       "Array(-16904.852, dtype=float32)"
      ]
     },
     "execution_count": 14,
     "metadata": {},
     "output_type": "execute_result"
    }
   ],
   "source": [
    "nbrs = neighbor_fn.allocate(R)\n",
    "energy_fn(R, nbrs)"
   ]
  },
  {
   "cell_type": "code",
   "execution_count": 15,
   "metadata": {},
   "outputs": [
    {
     "name": "stdout",
     "output_type": "stream",
     "text": [
      "FOO\n"
     ]
    }
   ],
   "source": [
    "init, apply = simulate.nvt_nose_hoover(energy_fn, shift, 5e-3, kT=0.75)"
   ]
  },
  {
   "cell_type": "code",
   "execution_count": 16,
   "metadata": {},
   "outputs": [],
   "source": [
    "key = random.PRNGKey(0)\n",
    "\n",
    "# We pick an \"extra capacity\" to ensure ahead of time that the neighbor\n",
    "# list will have enough capacity. Since sparse neighbor lists are more \n",
    "# robust to changes in the number of particles, in this case we only \n",
    "# need to actually add more capacity for dense neighbor lists.\n",
    "if format is partition.Dense: \n",
    "  nbrs = neighbor_fn.allocate(R, extra_capacity=55)\n",
    "else:\n",
    "  nbrs = neighbor_fn.allocate(R)\n",
    "\n",
    "state = init(key, R, neighbor=nbrs)"
   ]
  },
  {
   "cell_type": "code",
   "execution_count": 17,
   "metadata": {},
   "outputs": [],
   "source": [
    "def step(state_and_nbrs, unused):\n",
    "  state, nbrs = state_and_nbrs\n",
    "  nbrs = nbrs.update(state.position)\n",
    "  return (apply(state, neighbor=nbrs), nbrs), energy_fn(state.position, nbrs)\n"
   ]
  },
  {
   "cell_type": "code",
   "execution_count": 18,
   "metadata": {},
   "outputs": [],
   "source": [
    "(new_state, new_nbrs), energies = lax.scan(step, (state, nbrs), np.ones((2000)))\n"
   ]
  },
  {
   "cell_type": "code",
   "execution_count": null,
   "metadata": {},
   "outputs": [
    {
     "data": {
      "text/plain": [
       "Array(-6.23089, dtype=float32)"
      ]
     },
     "execution_count": 12,
     "metadata": {},
     "output_type": "execute_result"
    }
   ],
   "source": [
    "(energies/N)[1000:].mean()\n",
    "# energies"
   ]
  },
  {
   "cell_type": "code",
   "execution_count": 21,
   "metadata": {},
   "outputs": [
    {
     "data": {
      "text/plain": [
       "Array(0., dtype=float32)"
      ]
     },
     "execution_count": 21,
     "metadata": {},
     "output_type": "execute_result"
    }
   ],
   "source": [
    "energy_fn(R, nbrs)\n",
    "# R.shape\n",
    "# Array(0.16502948, dtype=float32)\n"
   ]
  },
  {
   "cell_type": "code",
   "execution_count": 16,
   "metadata": {},
   "outputs": [
    {
     "data": {
      "text/plain": [
       "Array([0., 0., 0., 0., 0., 0., 0., 0., 0., 0., 0., 0., 0., 0., 0., 0., 0.,\n",
       "       0., 0., 0., 0., 0., 0., 0., 0., 0., 0., 0., 0., 0., 0., 0., 0., 0.,\n",
       "       0., 0., 0., 0., 0., 0., 0., 0., 0., 0., 0., 0., 0., 0., 0., 0., 0.,\n",
       "       0., 0., 0., 0., 0., 0., 0., 0., 0., 0., 0., 0., 0., 0., 0., 0., 0.,\n",
       "       0., 0., 0., 0., 0., 0., 0., 0., 0., 0., 0., 0., 0., 0., 0., 0., 0.,\n",
       "       0., 0., 0., 0., 0., 0., 0., 0., 0., 0., 0., 0., 0., 0., 0.],      dtype=float32)"
      ]
     },
     "execution_count": 16,
     "metadata": {},
     "output_type": "execute_result"
    }
   ],
   "source": [
    "new_nbrs"
   ]
  },
  {
   "cell_type": "code",
   "execution_count": 47,
   "metadata": {},
   "outputs": [],
   "source": [
    "ran = np.linspace(1e-6, 1e-5, num = 100)\n",
    "gr = jax_md.quantity.pair_correlation(displacement, ran, 1.0)"
   ]
  },
  {
   "cell_type": "code",
   "execution_count": 48,
   "metadata": {},
   "outputs": [
    {
     "data": {
      "text/plain": [
       "(512, 100)"
      ]
     },
     "execution_count": 48,
     "metadata": {},
     "output_type": "execute_result"
    }
   ],
   "source": [
    "# gr(state.position).shape\n",
    "# state.position.shape\n",
    "# np.logspace(0.1,1.0)"
   ]
  },
  {
   "cell_type": "code",
   "execution_count": 49,
   "metadata": {},
   "outputs": [
    {
     "data": {
      "text/plain": [
       "<Axes: >"
      ]
     },
     "execution_count": 49,
     "metadata": {},
     "output_type": "execute_result"
    },
    {
     "data": {
      "image/png": "[encoded data removed]",
      "text/plain": [
       "<Figure size 640x480 with 1 Axes>"
      ]
     },
     "metadata": {},
     "output_type": "display_data"
    }
   ],
   "source": [
    "import seaborn as sns\n",
    "sns.scatterplot(x=ran, y=np.mean(gr(state.position),axis=0))"
   ]
  },
  {
   "cell_type": "code",
   "execution_count": null,
   "metadata": {},
   "outputs": [],
   "source": []
  }
 ],
 "metadata": {
  "kernelspec": {
   "display_name": "Python 3",
   "language": "python",
   "name": "python3"
  },
  "language_info": {
   "codemirror_mode": {
    "name": "ipython",
    "version": 3
   },
   "file_extension": ".py",
   "mimetype": "text/x-python",
   "name": "python",
   "nbconvert_exporter": "python",
   "pygments_lexer": "ipython3",
   "version": "3.8.16"
  },
  "orig_nbformat": 4,
  "vscode": {
   "interpreter": {
    "hash": "5b6e8fba36db23bc4d54e0302cd75fdd75c29d9edcbab68d6cfc74e7e4b30305"
   }
  }
 },
 "nbformat": 4,
 "nbformat_minor": 2
}
